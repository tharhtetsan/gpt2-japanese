{
 "cells": [
  {
   "cell_type": "markdown",
   "id": "87134c64",
   "metadata": {},
   "source": [
    "$ python3 gpt2-generate.py --model gpt2ja-medium --num_generate 1"
   ]
  },
  {
   "cell_type": "code",
   "execution_count": 1,
   "id": "c3de6c1a",
   "metadata": {},
   "outputs": [],
   "source": [
    "#!pip install jaconv"
   ]
  },
  {
   "cell_type": "code",
   "execution_count": 2,
   "id": "c0fe59c5",
   "metadata": {},
   "outputs": [],
   "source": [
    "model_path = r\"E:\\CloudSource\\CloudSource_share\\tharhtetsan\\testing\\gpt2-japanes\\gpt2-japanese-master\\gpt2ja-medium\""
   ]
  },
  {
   "cell_type": "code",
   "execution_count": 3,
   "id": "c8654b76",
   "metadata": {},
   "outputs": [],
   "source": [
    "import json\n",
    "import os\n",
    "import numpy as np\n",
    "import tensorflow.compat.v1 as tf\n",
    "import argparse\n",
    "from tqdm import tqdm\n",
    "from sampling import sample_sequence\n",
    "from  encode_bpe  import  BPEEncoder_ja"
   ]
  },
  {
   "cell_type": "code",
   "execution_count": 4,
   "id": "bb2a1844",
   "metadata": {},
   "outputs": [],
   "source": [
    "from model import HParams as HParams"
   ]
  },
  {
   "cell_type": "code",
   "execution_count": 5,
   "id": "39df1956",
   "metadata": {},
   "outputs": [],
   "source": [
    "with open('ja-bpe.txt', encoding='utf-8') as f:\n",
    "    bpe = f.read().split('\\n')\n",
    "\n",
    "with open('emoji.json', encoding='utf-8') as f:\n",
    "    emoji = json.loads(f.read())"
   ]
  },
  {
   "cell_type": "code",
   "execution_count": 6,
   "id": "938ec053",
   "metadata": {},
   "outputs": [],
   "source": [
    "enc  =  BPEEncoder_ja ( bpe , emoji )\n",
    "n_vocab  =  len ( enc )"
   ]
  },
  {
   "cell_type": "code",
   "execution_count": 7,
   "id": "93a752a7",
   "metadata": {},
   "outputs": [],
   "source": [
    "hparams = HParams(**{\n",
    "      \"n_vocab\": n_vocab,\n",
    "      \"n_ctx\": 1024,\n",
    "      \"n_embd\": 1024,\n",
    "      \"n_head\": 16,\n",
    "      \"n_layer\": 24\n",
    "    })"
   ]
  },
  {
   "cell_type": "code",
   "execution_count": 8,
   "id": "dac7aedd",
   "metadata": {},
   "outputs": [],
   "source": [
    "length=hparams.n_ctx // 2\n",
    "temperature=1\n",
    "top_k=40\n",
    "top_p=0\n",
    "min_length=max(0,0)\n",
    "max_length = 500\n",
    "\n",
    "context = \"『GPT-2』は、入力された文章の続きを作成するAIです。このデモンストレーションでは、このエリアに入力された文章の続きとなる文章を生成します。このエリアに、続きを生成したい文章を入力して、ページの下にある「Generate Japanese Text\\!」ボタンをクリックしてください。\""
   ]
  },
  {
   "cell_type": "code",
   "execution_count": 12,
   "id": "c4b22d04",
   "metadata": {},
   "outputs": [],
   "source": [
    "def generate_one(sess, output):\n",
    "    generated = ''\n",
    "    pre_text = context if len(str(context))>0 else '<|endoftext|>'\n",
    "    while True:\n",
    "        context_tokens = enc.encode(pre_text)\n",
    "        if len(context_tokens) > length:\n",
    "            context_tokens = context_tokens[-length:]\n",
    "        out = sess.run(output, feed_dict={\n",
    "            context: [context_tokens]\n",
    "        })[:,len(context_tokens):]\n",
    "        swd = enc.decode(out[0])\n",
    "        last  =  False\n",
    "        if '<|endoftext|>' in swd:\n",
    "            swd = swd.split('<|endoftext|>')[0]\n",
    "            last = True\n",
    "        if len(swd) > 0:\n",
    "            generated += swd\n",
    "\n",
    "        if last or len(generated) > max_length:\n",
    "            if len(generated) > 0:\n",
    "                print(\"generated : \",generated)\n",
    "                return generated[:max_length]\n",
    "        else:\n",
    "            pre_text = generated[-256:]\n",
    "        "
   ]
  },
  {
   "cell_type": "code",
   "execution_count": 13,
   "id": "d8313e18",
   "metadata": {},
   "outputs": [],
   "source": [
    "config = tf.ConfigProto()\n",
    "config.gpu_options.allow_growth = True\n",
    "config.gpu_options.visible_device_list = \"0\""
   ]
  },
  {
   "cell_type": "code",
   "execution_count": null,
   "id": "6ca3d3c8",
   "metadata": {},
   "outputs": [
    {
     "name": "stdout",
     "output_type": "stream",
     "text": [
      "E:\\CloudSource\\CloudSource_share\\tharhtetsan\\testing\\gpt2-japanes\\gpt2-japanese-master\\gpt2ja-medium\n",
      "INFO:tensorflow:Restoring parameters from E:\\CloudSource\\CloudSource_share\\tharhtetsan\\testing\\gpt2-japanes\\gpt2-japanese-master\\gpt2ja-medium\\model-10410000\n"
     ]
    }
   ],
   "source": [
    "with tf.Session(config=config,graph=tf.Graph()) as sess:\n",
    "    context = tf.placeholder(tf.int32, [1, None])\n",
    "    output = sample_sequence(\n",
    "        hparams=hparams, length=length,\n",
    "        min_length=min_length, context=context,\n",
    "        batch_size=1,\n",
    "        temperature=temperature, top_k=top_k, top_p=top_p\n",
    "    )\n",
    "    \n",
    "    saver = tf.train.Saver()\n",
    "    print(model_path)\n",
    "    ckpt = tf.train.latest_checkpoint(model_path)\n",
    "    saver.restore(sess, ckpt)\n",
    "    \n",
    "    num_generate = 1\n",
    "    for i in range(num_generate):\n",
    "        print(generate_one(sess, output))\n",
    "        if i < num_generate-1:\n",
    "            print('========')\n",
    "    \n",
    "    "
   ]
  },
  {
   "cell_type": "code",
   "execution_count": null,
   "id": "022c166b",
   "metadata": {},
   "outputs": [],
   "source": []
  },
  {
   "cell_type": "code",
   "execution_count": null,
   "id": "52a8e7b6",
   "metadata": {},
   "outputs": [],
   "source": [
    " "
   ]
  },
  {
   "cell_type": "code",
   "execution_count": null,
   "id": "3b4d17a0",
   "metadata": {},
   "outputs": [],
   "source": []
  },
  {
   "cell_type": "code",
   "execution_count": null,
   "id": "f0248fb2",
   "metadata": {},
   "outputs": [],
   "source": []
  },
  {
   "cell_type": "code",
   "execution_count": null,
   "id": "682421ff",
   "metadata": {},
   "outputs": [],
   "source": []
  }
 ],
 "metadata": {
  "kernelspec": {
   "display_name": "Python 3 (ipykernel)",
   "language": "python",
   "name": "python3"
  },
  "language_info": {
   "codemirror_mode": {
    "name": "ipython",
    "version": 3
   },
   "file_extension": ".py",
   "mimetype": "text/x-python",
   "name": "python",
   "nbconvert_exporter": "python",
   "pygments_lexer": "ipython3",
   "version": "3.8.13"
  }
 },
 "nbformat": 4,
 "nbformat_minor": 5
}
