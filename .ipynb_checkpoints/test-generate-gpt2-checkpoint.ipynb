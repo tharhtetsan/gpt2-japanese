{
 "cells": [
  {
   "cell_type": "markdown",
   "id": "87134c64",
   "metadata": {},
   "source": [
    "$ python3 gpt2-generate.py --model gpt2ja-medium --num_generate 1"
   ]
  },
  {
   "cell_type": "code",
   "execution_count": 1,
   "id": "c3de6c1a",
   "metadata": {},
   "outputs": [],
   "source": [
    "#!pip install jaconv"
   ]
  },
  {
   "cell_type": "code",
   "execution_count": 2,
   "id": "c0fe59c5",
   "metadata": {},
   "outputs": [],
   "source": [
    "model_path = r\"E:\\CloudSource\\CloudSource_share\\tharhtetsan\\testing\\gpt2-japanes\\gpt2-japanese-master\\gpt2ja-medium\""
   ]
  },
  {
   "cell_type": "code",
   "execution_count": 3,
   "id": "c8654b76",
   "metadata": {},
   "outputs": [],
   "source": [
    "import json\n",
    "import os\n",
    "import numpy as np\n",
    "import tensorflow.compat.v1 as tf\n",
    "import argparse\n",
    "from tqdm import tqdm\n",
    "from sampling import sample_sequence\n",
    "from  encode_bpe  import  BPEEncoder_ja"
   ]
  },
  {
   "cell_type": "code",
   "execution_count": 4,
   "id": "bb2a1844",
   "metadata": {},
   "outputs": [],
   "source": [
    "from model import HParams as HParams"
   ]
  },
  {
   "cell_type": "code",
   "execution_count": 5,
   "id": "39df1956",
   "metadata": {},
   "outputs": [],
   "source": [
    "with open('ja-bpe.txt', encoding='utf-8') as f:\n",
    "    bpe = f.read().split('\\n')\n",
    "\n",
    "with open('emoji.json', encoding='utf-8') as f:\n",
    "    emoji = json.loads(f.read())"
   ]
  },
  {
   "cell_type": "code",
   "execution_count": 6,
   "id": "938ec053",
   "metadata": {},
   "outputs": [],
   "source": [
    "enc  =  BPEEncoder_ja ( bpe , emoji )\n",
    "n_vocab  =  len ( enc )"
   ]
  },
  {
   "cell_type": "code",
   "execution_count": 7,
   "id": "93a752a7",
   "metadata": {},
   "outputs": [],
   "source": [
    "hparams = HParams(**{\n",
    "      \"n_vocab\": n_vocab,\n",
    "      \"n_ctx\": 1024,\n",
    "      \"n_embd\": 1024,\n",
    "      \"n_head\": 16,\n",
    "      \"n_layer\": 24\n",
    "    })"
   ]
  },
  {
   "cell_type": "code",
   "execution_count": 8,
   "id": "dac7aedd",
   "metadata": {},
   "outputs": [],
   "source": [
    "length=hparams.n_ctx // 2\n",
    "temperature=1\n",
    "top_k=40\n",
    "top_p=0\n",
    "min_length=max(0,0)\n",
    "max_length = 500\n",
    "\n",
    "input_context = \"天井は普段あまり目のつかない箇所で、床などと違いこまめに掃除する方は少ないのではないでしょうか。 しかし、たまに天井の拭き掃除を行うと、想像以上に汚れていることに気づくでしょう。キッチン周辺の天井は油汚れがつきますし、喫煙者のいらっしゃるご家庭ではヤニが付着して変色します。 汚れのつきやすい環境に限らず日常生活で多少のホコリやゴミが発生しますので、これらが天井に付着することで自然と汚れていきます。ホコリなどは健康被害につながる可能性があるため、 住宅の安全性を保つ 上でも天井リフォームは重要です。\""
   ]
  },
  {
   "cell_type": "code",
   "execution_count": 9,
   "id": "c4b22d04",
   "metadata": {},
   "outputs": [],
   "source": [
    "def generate_one(sess, output):\n",
    "    generated = ''\n",
    "    \n",
    "    \n",
    "    pre_text = input_context if len(input_context)>0 else '<|endoftext|>'\n",
    "    while True:\n",
    "        \n",
    "        print(\"###################################\")\n",
    "        print(pre_text)\n",
    "        print(\"###################################\")\n",
    "\n",
    "        context_tokens = enc.encode(pre_text)\n",
    "        if len(context_tokens) > length:\n",
    "            context_tokens = context_tokens[-length:]\n",
    "        out = sess.run(output, feed_dict={\n",
    "            context: [context_tokens]\n",
    "        })[:,len(context_tokens):]\n",
    "        swd = enc.decode(out[0])\n",
    "        last  =  False\n",
    "        if '<|endoftext|>' in swd:\n",
    "            swd = swd.split('<|endoftext|>')[0]\n",
    "            last = True\n",
    "        if len(swd) > 0:\n",
    "            generated += swd\n",
    "\n",
    "        if last or len(generated) > max_length:\n",
    "            if len(generated) > 0:\n",
    "                #print(\"generated : \",generated)\n",
    "                return generated[:max_length]\n",
    "        else:\n",
    "            pre_text = generated[-256:]\n",
    "        "
   ]
  },
  {
   "cell_type": "code",
   "execution_count": 10,
   "id": "d8313e18",
   "metadata": {},
   "outputs": [],
   "source": [
    "config = tf.ConfigProto()\n",
    "config.gpu_options.allow_growth = True\n",
    "config.gpu_options.visible_device_list = \"0\""
   ]
  },
  {
   "cell_type": "code",
   "execution_count": 11,
   "id": "6ca3d3c8",
   "metadata": {},
   "outputs": [
    {
     "name": "stdout",
     "output_type": "stream",
     "text": [
      "WARNING:tensorflow:From C:\\Users\\tharh\\anaconda3\\envs\\tharhtet\\lib\\site-packages\\tensorflow\\python\\util\\dispatch.py:1082: to_float (from tensorflow.python.ops.math_ops) is deprecated and will be removed in a future version.\n",
      "Instructions for updating:\n",
      "Use `tf.cast` instead.\n",
      "WARNING:tensorflow:From C:\\Users\\tharh\\anaconda3\\envs\\tharhtet\\lib\\site-packages\\tensorflow\\python\\util\\dispatch.py:1082: multinomial (from tensorflow.python.ops.random_ops) is deprecated and will be removed in a future version.\n",
      "Instructions for updating:\n",
      "Use `tf.random.categorical` instead.\n",
      "INFO:tensorflow:Restoring parameters from E:\\CloudSource\\CloudSource_share\\tharhtetsan\\testing\\gpt2-japanes\\gpt2-japanese-master\\gpt2ja-medium\\model-10410000\n",
      "###################################\n",
      "天井は普段あまり目のつかない箇所で、床などと違いこまめに掃除する方は少ないのではないでしょうか。 しかし、たまに天井の拭き掃除を行うと、想像以上に汚れていることに気づくでしょう。キッチン周辺の天井は油汚れがつきますし、喫煙者のいらっしゃるご家庭ではヤニが付着して変色します。 汚れのつきやすい環境に限らず日常生活で多少のホコリやゴミが発生しますので、これらが天井に付着することで自然と汚れていきます。ホコリなどは健康被害につながる可能性があるため、 住宅の安全性を保つ 上でも天井リフォームは重要です。\n",
      "###################################\n",
      "\n",
      "家中の天井の掃除をすると、ゴミやホコリがいっぱい、しかも壁の一部と、天井の一部が白くなってしまうわけにはいかない。天井にホコリがたまったらその分天井を拭き掃除して、カビが生えたらそこを拭き掃除。ホコリが溜まったらそこにホコリをまぶすことできれいになります。\n",
      "\n",
      " 壁を磨く掃除の流れの中で、天井の汚れがたまっていくと大変危険なのは天井交換。「そのままでは天井にホコリがうち込むだけ」となり、天井を少しでも長く磨きたければ「天井にホコリがつき放題になることを防ぐため、白くなっている部分を掃除」することです。\n",
      "\n",
      " 天井と天井が、少しずつ白い状態から黒の状態に戻っていくにつれて、そこに発生するホコリやカビが多くの場合に「カビ」となり、カビがつき放題になった部分はどんどん天井を白く染めていきますよ。カビやホコリは、カビがつき放題になったときに取れる菌菌の一つで、カビ予防として床や天井に漂い出て広がりやすくなるカビを、天井に漂う菌と一緒に殺すことが大切です。\n",
      "\n",
      " 天井のホコリと、カビが生えやすいように壁のカビ予防フィルタを交換したり、天井のホコリに、カビで汚れた壁に壁を張るなどするので、「カビ」「カ\n",
      "========\n",
      "###################################\n",
      "天井は普段あまり目のつかない箇所で、床などと違いこまめに掃除する方は少ないのではないでしょうか。 しかし、たまに天井の拭き掃除を行うと、想像以上に汚れていることに気づくでしょう。キッチン周辺の天井は油汚れがつきますし、喫煙者のいらっしゃるご家庭ではヤニが付着して変色します。 汚れのつきやすい環境に限らず日常生活で多少のホコリやゴミが発生しますので、これらが天井に付着することで自然と汚れていきます。ホコリなどは健康被害につながる可能性があるため、 住宅の安全性を保つ 上でも天井リフォームは重要です。\n",
      "###################################\n",
      "そこで、 この天井を覆うタイプのフットジェル(フットカバー)を見ておきたいと思います。 まずは使い方を説明します。フットカバーはつけてみて使う前に、 使い方をお伝えします。フットカバーを使ってみるといつも「きれい!」と感動される方もいます。使い始めて3日くらいしかしない方も多いことで、2日に1回洗濯をしているというケースもあるもの。しかし、このフットカバーですら、汚れがたまりやすいんです。 「汚れがたまる」と感じますのは まず見てわかりますよね。 汚れが気になるということで、普段に使っている洗濯物をサッと洗いたくなります。 そして、 「ここが汚れている」と感じたときは、汚れがたまらないようサッと拭き掃除できたらいい、 と考えています。 今回は汚れが気になる部分を拭き掃除、 または簡単に出来るフローリングのフットカバーの使いかたを見ていきたいと思います。 【ポイント】1.フローリングのフットカバー 500ml入り <PRICE> 2.フットカバーを使う前と使う後で、  床に直接貼る3.掃除機で磨く と良くない場合もあります。 まずは一度自分の手のひらで広げてみましょう。 この方法で簡単に\n",
      "========\n",
      "###################################\n",
      "天井は普段あまり目のつかない箇所で、床などと違いこまめに掃除する方は少ないのではないでしょうか。 しかし、たまに天井の拭き掃除を行うと、想像以上に汚れていることに気づくでしょう。キッチン周辺の天井は油汚れがつきますし、喫煙者のいらっしゃるご家庭ではヤニが付着して変色します。 汚れのつきやすい環境に限らず日常生活で多少のホコリやゴミが発生しますので、これらが天井に付着することで自然と汚れていきます。ホコリなどは健康被害につながる可能性があるため、 住宅の安全性を保つ 上でも天井リフォームは重要です。\n",
      "###################################\n",
      " 「天井は気にしない」 という方が少なくないことが、今回の記事で分かりました。  天井のホコリなどは、気になる場所の近くにも溜まりやすいので、 こまめに洗濯したり洗ったりをする。 この作業が、いつまでも続き、そのためにはどうすれば良いのか?。そのためにはどのような方法があるのか?。今回は、このような課題を解決する方法をご紹介します。   <天井や床のホコリの発生の原因> 壁や床に溜まりやすい。 これは、カビやノミの発生の原因にもなりますが、 カビやノミのカビやノミはカビ予防のためにカビ菌の増殖を抑制する(菌の中でもカビが繁殖しやすいのはカビ菌の増殖を抑制するため)効果があります。 カビ予防に有効なものはカビ、ノミ、カビ菌を防ぐのはカビ予防効果があるのでカビ予防効果はカビ予防効果についてはあまり重要ではありません(カビ予防に有効なカビ・ノミを防ぐものなどありますが、カビやノミによりやたらと繁殖しやすいカビやノミはカビ予防効果がないため、カビ防止に有効でないというのが事実だと思います)。カビ予防はカビ・ノミを防ぐ、カビ予防効果を防ぐにはカビ予防効果を維持してカビ予防効果を保つ、カビ予防効果\n",
      "========\n",
      "###################################\n",
      "天井は普段あまり目のつかない箇所で、床などと違いこまめに掃除する方は少ないのではないでしょうか。 しかし、たまに天井の拭き掃除を行うと、想像以上に汚れていることに気づくでしょう。キッチン周辺の天井は油汚れがつきますし、喫煙者のいらっしゃるご家庭ではヤニが付着して変色します。 汚れのつきやすい環境に限らず日常生活で多少のホコリやゴミが発生しますので、これらが天井に付着することで自然と汚れていきます。ホコリなどは健康被害につながる可能性があるため、 住宅の安全性を保つ 上でも天井リフォームは重要です。\n",
      "###################################\n",
      " 天井リフォームは難解かもしれませんが、難解でも簡単なのでやってみてくださいね。では、今回はこれでおしまいです。 今回ご紹介したリフォームの他にも、リフォームを紹介することがあります。その中で、リフォームの際に特に大事なことは何か、お勧めの商品があれば、是非教えて頂けますと嬉しいです。  その他参考になるものがあれば幸いです ━─━─━─━─━─━─━─━─━─━─━─━─━─── 【おすすめ関連記事】◆リフォームを行う上での基本を学べばリフォームの手間は減る 『我が家の新築分譲マンションをリフォーム』━─━─━─━─━─━─━─━─━─━─━─━───           ▼▼▼▼▼▼▼▼▼▼▼▼▼▼▼▼▼▼▼▼▼▼▼▼▼▼▼▼▼▼▼▼▼▼▼▼▼▼▼▼▼▼▼▼▼▼▼   \n",
      "\n",
      "========\n",
      "###################################\n",
      "天井は普段あまり目のつかない箇所で、床などと違いこまめに掃除する方は少ないのではないでしょうか。 しかし、たまに天井の拭き掃除を行うと、想像以上に汚れていることに気づくでしょう。キッチン周辺の天井は油汚れがつきますし、喫煙者のいらっしゃるご家庭ではヤニが付着して変色します。 汚れのつきやすい環境に限らず日常生活で多少のホコリやゴミが発生しますので、これらが天井に付着することで自然と汚れていきます。ホコリなどは健康被害につながる可能性があるため、 住宅の安全性を保つ 上でも天井リフォームは重要です。\n",
      "###################################\n",
      " 天井や壁、照明、壁全体に張り付いたほこりやカビの発生は健康被害につながる危険性がある ことにご注意ください。 そのため、 カビ防止などに意識を高めてみてください。 床のカビ予防についてはコチラ にチェックを入れておくとよいでしょう。 ぜひご覧になってみてくださいね。 【現在リリース中】 暮らしのアイデアnote Instagram Profile リフォームのコツ 間取り+リノベーションの壁 壁の張り替え。築26年のアパート生活 リノベーション後の「床のホコリ」とは? 賃貸住宅の壁張り替え。カビの発生や壁の汚れ対策に。 壁の張り替え記事をリブログしておきます * * * * * * * * * * * * * * * * * * ** ** * * * *** * * * * *** * * * * * * * * * * * * * * * * * * * * * * * * * * * * * * * * * * * * *↑この「壁の張り替え」は2週間程度です。 壁の張り替えをしましたが、天井や壁が汚れていながらも改善されず… そこで、もう一度「壁の貼り替え」を検討したことでご\n"
     ]
    }
   ],
   "source": [
    "with tf.Session(config=config,graph=tf.Graph()) as sess:\n",
    "    context = tf.placeholder(tf.int32, [1, None])\n",
    "    output = sample_sequence(\n",
    "        hparams=hparams, length=length,\n",
    "        min_length=min_length, context=context,\n",
    "        batch_size=1,\n",
    "        temperature=temperature, top_k=top_k, top_p=top_p\n",
    "    )\n",
    "    \n",
    "    saver = tf.train.Saver()\n",
    "    \n",
    "    ckpt = tf.train.latest_checkpoint(model_path)\n",
    "    saver.restore(sess, ckpt)\n",
    "    \n",
    "    num_generate = 5\n",
    "    for i in range(num_generate):\n",
    "        output_result = generate_one(sess, output)\n",
    "        print(str(output_result))\n",
    "        if i < num_generate-1:\n",
    "            print('========')\n",
    "    \n",
    "    "
   ]
  },
  {
   "cell_type": "code",
   "execution_count": null,
   "id": "022c166b",
   "metadata": {},
   "outputs": [],
   "source": []
  },
  {
   "cell_type": "code",
   "execution_count": null,
   "id": "52a8e7b6",
   "metadata": {},
   "outputs": [],
   "source": [
    " "
   ]
  },
  {
   "cell_type": "code",
   "execution_count": null,
   "id": "3b4d17a0",
   "metadata": {},
   "outputs": [],
   "source": []
  },
  {
   "cell_type": "code",
   "execution_count": null,
   "id": "f0248fb2",
   "metadata": {},
   "outputs": [],
   "source": []
  },
  {
   "cell_type": "code",
   "execution_count": null,
   "id": "682421ff",
   "metadata": {},
   "outputs": [],
   "source": []
  }
 ],
 "metadata": {
  "kernelspec": {
   "display_name": "Python 3 (ipykernel)",
   "language": "python",
   "name": "python3"
  },
  "language_info": {
   "codemirror_mode": {
    "name": "ipython",
    "version": 3
   },
   "file_extension": ".py",
   "mimetype": "text/x-python",
   "name": "python",
   "nbconvert_exporter": "python",
   "pygments_lexer": "ipython3",
   "version": "3.8.13"
  }
 },
 "nbformat": 4,
 "nbformat_minor": 5
}
